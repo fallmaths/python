{
 "cells": [
  {
   "cell_type": "code",
   "execution_count": 122,
   "id": "bf4bdb17",
   "metadata": {},
   "outputs": [
    {
     "name": "stdout",
     "output_type": "stream",
     "text": [
      "Entrer votre supposition: 23\n",
      "Votre estimation est trop basse. Devinez encore.\n",
      "Entrer votre supposition: 31\n",
      "Félicitation! Vous avez devinez le nombre correct.\n",
      "A bientot!\n"
     ]
    }
   ],
   "source": [
    "import random\n",
    "n = random.randint(1,100)\n",
    "while n!=31:\n",
    "    n = int(input(\"Entrer votre supposition: \"))\n",
    "    if n > 31: \n",
    "        print(\"Votre estimation est trop élevée. Devivez encore.\")\n",
    "    elif n < 31:\n",
    "        print(\"Votre estimation est trop basse. Devinez encore.\")\n",
    "    else:\n",
    "        print(\"Félicitation! Vous avez devinez le nombre correct.\") \n",
    "print(\"A bientot!\")\n"
   ]
  },
  {
   "cell_type": "code",
   "execution_count": null,
   "id": "0c998577",
   "metadata": {},
   "outputs": [],
   "source": []
  }
 ],
 "metadata": {
  "kernelspec": {
   "display_name": "Python 3 (ipykernel)",
   "language": "python",
   "name": "python3"
  },
  "language_info": {
   "codemirror_mode": {
    "name": "ipython",
    "version": 3
   },
   "file_extension": ".py",
   "mimetype": "text/x-python",
   "name": "python",
   "nbconvert_exporter": "python",
   "pygments_lexer": "ipython3",
   "version": "3.10.9"
  }
 },
 "nbformat": 4,
 "nbformat_minor": 5
}
