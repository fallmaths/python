{
 "cells": [
  {
   "cell_type": "code",
   "execution_count": 9,
   "id": "3fe79b83",
   "metadata": {},
   "outputs": [
    {
     "name": "stdout",
     "output_type": "stream",
     "text": [
      "6\n"
     ]
    }
   ],
   "source": [
    "L = [1,2,3]\n",
    "print(L[0]*L[1]*L[2])"
   ]
  },
  {
   "cell_type": "code",
   "execution_count": 18,
   "id": "8152cf32",
   "metadata": {},
   "outputs": [
    {
     "name": "stdout",
     "output_type": "stream",
     "text": [
      "{'a': 20, 'b': 30, 'c': 40} {'a': 40, 'b': 50, 'd': 60}\n"
     ]
    }
   ],
   "source": [
    "d1 = {\"a\":20,\"b\":30,\"c\":40}\n",
    "d2 = {\"a\":40,\"b\":50,\"d\":60}\n",
    "print(d1,d2)"
   ]
  },
  {
   "cell_type": "code",
   "execution_count": 32,
   "id": "d432e7cf",
   "metadata": {},
   "outputs": [
    {
     "name": "stdout",
     "output_type": "stream",
     "text": [
      "{'Moudou', 'Fatou', 'Ibra'}\n"
     ]
    }
   ],
   "source": [
    "mon_ensemble = {\"Fatou\",\"Moudou\",\"Ibra\"}\n",
    "print(mon_ensemble)"
   ]
  },
  {
   "cell_type": "code",
   "execution_count": 33,
   "id": "8245e459",
   "metadata": {},
   "outputs": [
    {
     "name": "stdout",
     "output_type": "stream",
     "text": [
      "{'Moudou', 'Magatte', 'Fatou', 'Ibra'}\n"
     ]
    }
   ],
   "source": [
    "mon_ensemble.add(\"Magatte\")\n",
    "print(mon_ensemble)"
   ]
  },
  {
   "cell_type": "code",
   "execution_count": 34,
   "id": "c8570bcb",
   "metadata": {},
   "outputs": [
    {
     "name": "stdout",
     "output_type": "stream",
     "text": [
      "{'Moudou', 'Magatte', 'Fatou'}\n"
     ]
    }
   ],
   "source": [
    "mon_ensemble.remove(\"Ibra\")\n",
    "print(mon_ensemble)"
   ]
  },
  {
   "cell_type": "code",
   "execution_count": null,
   "id": "a9965403",
   "metadata": {},
   "outputs": [],
   "source": []
  }
 ],
 "metadata": {
  "kernelspec": {
   "display_name": "Python 3 (ipykernel)",
   "language": "python",
   "name": "python3"
  },
  "language_info": {
   "codemirror_mode": {
    "name": "ipython",
    "version": 3
   },
   "file_extension": ".py",
   "mimetype": "text/x-python",
   "name": "python",
   "nbconvert_exporter": "python",
   "pygments_lexer": "ipython3",
   "version": "3.10.9"
  }
 },
 "nbformat": 4,
 "nbformat_minor": 5
}
