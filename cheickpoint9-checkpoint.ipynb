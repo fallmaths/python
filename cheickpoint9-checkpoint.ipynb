{
 "cells": [
  {
   "cell_type": "code",
   "execution_count": null,
   "id": "6ea88664",
   "metadata": {},
   "outputs": [],
   "source": [
    "f = open(\"monfichier.txt\", 'r')\n",
    "contenu = f.read() # lecture du contenu\n",
    "print(contenu) # impression du contenu\n",
    "f.close() # fermeture du fichier"
   ]
  },
  {
   "cell_type": "code",
   "execution_count": null,
   "id": "40f81242",
   "metadata": {},
   "outputs": [],
   "source": [
    "f = open(\"monfichier.txt\", 'r') \n",
    "contenu = f.read(20) # lecture de 20 caractère du contenu du fichier \n",
    "print(contenu) # impression du contenu\n",
    "f.close() # fermeture du fichier"
   ]
  }
 ],
 "metadata": {
  "kernelspec": {
   "display_name": "Python 3 (ipykernel)",
   "language": "python",
   "name": "python3"
  },
  "language_info": {
   "codemirror_mode": {
    "name": "ipython",
    "version": 3
   },
   "file_extension": ".py",
   "mimetype": "text/x-python",
   "name": "python",
   "nbconvert_exporter": "python",
   "pygments_lexer": "ipython3",
   "version": "3.10.9"
  }
 },
 "nbformat": 4,
 "nbformat_minor": 5
}
