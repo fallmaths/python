{
 "cells": [
  {
   "cell_type": "markdown",
   "id": "787beb8e",
   "metadata": {},
   "source": [
    "EXERCICE1: Tripplet"
   ]
  },
  {
   "cell_type": "code",
   "execution_count": 3,
   "id": "0a2d4810",
   "metadata": {},
   "outputs": [
    {
     "data": {
      "text/plain": [
       "(1, 2, 3)"
      ]
     },
     "execution_count": 3,
     "metadata": {},
     "output_type": "execute_result"
    }
   ],
   "source": [
    "class Point3D:\n",
    "    def __init__(self,x,y,z):\n",
    "        self.x=x\n",
    "        self.y=y\n",
    "        self.z=z\n",
    "    def afficher_tripplet(self):\n",
    "        return self.x, self.y, self.z\n",
    "my_point=Point3D(1,2,3)\n",
    "my_point.afficher_tripplet()"
   ]
  },
  {
   "cell_type": "markdown",
   "id": "0b7ed8df",
   "metadata": {},
   "source": [
    "EXERCICE2: Rectangle"
   ]
  },
  {
   "cell_type": "code",
   "execution_count": 41,
   "id": "2854ed1f",
   "metadata": {},
   "outputs": [],
   "source": [
    "class Rectangle():\n",
    "    def __init__(self, longueur, largeur):\n",
    "        self.longueur = longueur\n",
    "        self.largeur = largeur\n",
    "    def aire(self):\n",
    "        return self.longueur*self.largeur\n",
    "    def perimetre(self):\n",
    "        return (self.longueur+self.largeur)*2\n",
    "   "
   ]
  },
  {
   "cell_type": "code",
   "execution_count": 42,
   "id": "4d07bdbc",
   "metadata": {},
   "outputs": [],
   "source": [
    "mon_rectangle = Rectangle(4, 3)"
   ]
  },
  {
   "cell_type": "code",
   "execution_count": 44,
   "id": "8621b948",
   "metadata": {},
   "outputs": [
    {
     "data": {
      "text/plain": [
       "12"
      ]
     },
     "execution_count": 44,
     "metadata": {},
     "output_type": "execute_result"
    }
   ],
   "source": [
    "mon_rectangle.aire()"
   ]
  },
  {
   "cell_type": "code",
   "execution_count": 45,
   "id": "e470d0d4",
   "metadata": {},
   "outputs": [
    {
     "data": {
      "text/plain": [
       "14"
      ]
     },
     "execution_count": 45,
     "metadata": {},
     "output_type": "execute_result"
    }
   ],
   "source": [
    "mon_rectangle.perimetre()"
   ]
  },
  {
   "cell_type": "markdown",
   "id": "ec34d05c",
   "metadata": {},
   "source": [
    "EXERCIE3: CERCLE"
   ]
  },
  {
   "cell_type": "code",
   "execution_count": 43,
   "id": "8f4a6ace",
   "metadata": {},
   "outputs": [],
   "source": [
    "class Cercle():\n",
    "    def __init__(self, r, x, y):\n",
    "        self.r  = r\n",
    "        self.x = x\n",
    "        self.y = y\n",
    "        \n",
    "    def aire(self):\n",
    "        return self.r**2*(3.14)\n",
    "    \n",
    "    def perimetre(self):\n",
    "        return self.r*2*3.14\n",
    "    \n",
    "    def distance(self):\n",
    "        return self.x**2+self.y**2-self.r**2\n",
    "   "
   ]
  },
  {
   "cell_type": "code",
   "execution_count": 44,
   "id": "f486bd99",
   "metadata": {},
   "outputs": [],
   "source": [
    "mon_cercle = Cercle(5, 3, 4)"
   ]
  },
  {
   "cell_type": "code",
   "execution_count": 45,
   "id": "0849b8ac",
   "metadata": {},
   "outputs": [
    {
     "data": {
      "text/plain": [
       "78.5"
      ]
     },
     "execution_count": 45,
     "metadata": {},
     "output_type": "execute_result"
    }
   ],
   "source": [
    "mon_cercle.aire()"
   ]
  },
  {
   "cell_type": "code",
   "execution_count": 46,
   "id": "c539a092",
   "metadata": {},
   "outputs": [
    {
     "data": {
      "text/plain": [
       "31.400000000000002"
      ]
     },
     "execution_count": 46,
     "metadata": {},
     "output_type": "execute_result"
    }
   ],
   "source": [
    "mon_cercle.perimetre()"
   ]
  },
  {
   "cell_type": "code",
   "execution_count": 52,
   "id": "90fbaaf7",
   "metadata": {},
   "outputs": [
    {
     "data": {
      "text/plain": [
       "0"
      ]
     },
     "execution_count": 52,
     "metadata": {},
     "output_type": "execute_result"
    }
   ],
   "source": [
    "mon_cercle.distance()"
   ]
  },
  {
   "cell_type": "code",
   "execution_count": 57,
   "id": "c48491e3",
   "metadata": {},
   "outputs": [
    {
     "name": "stdout",
     "output_type": "stream",
     "text": [
      "le point n'appartient pas\n"
     ]
    }
   ],
   "source": [
    "def distance(self):\n",
    "        return self.x**2+self.y**2-self.r**2\n",
    "if distance == 0:\n",
    "            print(\"le point appartient\")\n",
    "else:\n",
    "            print(\"le point n'appartient pas\")"
   ]
  },
  {
   "cell_type": "markdown",
   "id": "671810ea",
   "metadata": {},
   "source": [
    "EXERCICE4: Bank"
   ]
  },
  {
   "cell_type": "code",
   "execution_count": 15,
   "id": "17b3e1cb",
   "metadata": {},
   "outputs": [],
   "source": [
    "class compte():\n",
    "    def __init__(self,s, x, y):\n",
    "        self.montant = s\n",
    "        self.depot  = x\n",
    "        self.retrait = y\n",
    "    def nouveaumontantdepot(self):\n",
    "        return self.montant+self.depot\n",
    "    def nouveaumontantretrait(self):\n",
    "        return self.montant-self.retrait"
   ]
  },
  {
   "cell_type": "code",
   "execution_count": 16,
   "id": "d1546949",
   "metadata": {},
   "outputs": [],
   "source": [
    "mon_compte = compte(100000, 1000, 1500)"
   ]
  },
  {
   "cell_type": "code",
   "execution_count": 17,
   "id": "534796e0",
   "metadata": {},
   "outputs": [
    {
     "data": {
      "text/plain": [
       "101000"
      ]
     },
     "execution_count": 17,
     "metadata": {},
     "output_type": "execute_result"
    }
   ],
   "source": [
    "mon_compte.nouveaumontantdepot()"
   ]
  },
  {
   "cell_type": "code",
   "execution_count": 19,
   "id": "06f51785",
   "metadata": {},
   "outputs": [
    {
     "data": {
      "text/plain": [
       "98500"
      ]
     },
     "execution_count": 19,
     "metadata": {},
     "output_type": "execute_result"
    }
   ],
   "source": [
    "mon_compte.nouveaumontantretrait()"
   ]
  },
  {
   "cell_type": "code",
   "execution_count": null,
   "id": "0fd4d770",
   "metadata": {},
   "outputs": [],
   "source": []
  }
 ],
 "metadata": {
  "kernelspec": {
   "display_name": "Python 3 (ipykernel)",
   "language": "python",
   "name": "python3"
  },
  "language_info": {
   "codemirror_mode": {
    "name": "ipython",
    "version": 3
   },
   "file_extension": ".py",
   "mimetype": "text/x-python",
   "name": "python",
   "nbconvert_exporter": "python",
   "pygments_lexer": "ipython3",
   "version": "3.10.9"
  }
 },
 "nbformat": 4,
 "nbformat_minor": 5
}
