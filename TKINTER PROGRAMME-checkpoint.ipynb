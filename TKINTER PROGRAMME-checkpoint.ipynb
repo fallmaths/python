{
 "cells": [
  {
   "cell_type": "code",
   "execution_count": 31,
   "id": "8833ca61",
   "metadata": {},
   "outputs": [],
   "source": [
    "import tkinter as tk\n",
    "from tkinter import ttk\n",
    "from tkinter.messagebox import showerror\n",
    "\n",
    "root = tk.Tk()\n",
    "root.title('Temperature Converter')\n",
    "root.geometry('300x70')\n",
    "root.resizable(False, False)\n",
    "\n",
    "\n",
    "def fahrenheit_to_celsius(f):\n",
    "    \"\"\" Convert fahrenheit to celsius\n",
    "    \"\"\"\n",
    "    return (f - 32) * 5/9\n",
    "\n",
    "frame = ttk.Frame(root)\n",
    "\n",
    "options = {'padx': 10, 'pady': 5}\n",
    "\n",
    "temperature_label = ttk.Label(frame, text='Fahrenheit')\n",
    "temperature_label.grid(column=0, row=0, sticky='W', **options)\n",
    "\n",
    "temperature = tk.StringVar()\n",
    "temperature_entry = ttk.Entry(frame, textvariable=temperature)\n",
    "temperature_entry.grid(column=0, row=0, **options)\n",
    "temperature_entry.focus()\n",
    "\n",
    "\n",
    "def convert_button_clicked():\n",
    "    \"\"\"  Handle convert button click event \n",
    "    \"\"\"\n",
    "    try:\n",
    "        f = float(temperature.get())\n",
    "        c = fahrenheit_to_celsius(f)\n",
    "        result = f'{f} Fahrenheit = {c:.2f} Celsius'\n",
    "        result_label.config(text=result)\n",
    "    except ValueError as error:\n",
    "        showerror(title='Error', message=error)\n",
    "\n",
    "\n",
    "convert_button = ttk.Button(frame, text='Convert')\n",
    "convert_button.grid(column=2, row=0, sticky='W', **options)\n",
    "convert_button.configure(command=convert_button_clicked)\n",
    "\n",
    "result_label = ttk.Label(frame)\n",
    "result_label.grid(row=1, columnspan=3, **options)\n",
    "\n",
    "frame.grid(padx=10, pady=10)\n",
    "\n",
    "root.mainloop()"
   ]
  },
  {
   "cell_type": "code",
   "execution_count": null,
   "id": "85dee1bb",
   "metadata": {},
   "outputs": [],
   "source": []
  }
 ],
 "metadata": {
  "kernelspec": {
   "display_name": "Python 3 (ipykernel)",
   "language": "python",
   "name": "python3"
  },
  "language_info": {
   "codemirror_mode": {
    "name": "ipython",
    "version": 3
   },
   "file_extension": ".py",
   "mimetype": "text/x-python",
   "name": "python",
   "nbconvert_exporter": "python",
   "pygments_lexer": "ipython3",
   "version": "3.10.9"
  }
 },
 "nbformat": 4,
 "nbformat_minor": 5
}
